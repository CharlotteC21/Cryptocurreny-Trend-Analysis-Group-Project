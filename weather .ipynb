{
 "cells": [
  {
   "cell_type": "code",
   "execution_count": 1,
   "id": "ec0ba0fd",
   "metadata": {},
   "outputs": [],
   "source": [
    "# Dependencies and Setup\n",
    "import matplotlib.pyplot as plt\n",
    "import pandas as pd\n",
    "import numpy as np\n",
    "import requests\n",
    "import time\n",
    "import scipy.stats as st\n",
    "from scipy.stats import linregress\n",
    "from pprint import pprint\n",
    "\n",
    "# Import API key\n",
    "from api_key import api_key\n",
    "\n",
    "# Output File (CSV)\n",
    "output_data_file = \"output_data/washington.csv\"\n",
    "\n"
   ]
  },
  {
   "cell_type": "code",
   "execution_count": 3,
   "id": "e81c528b",
   "metadata": {},
   "outputs": [
    {
     "name": "stdout",
     "output_type": "stream",
     "text": [
      "http://history.openweathermap.org/data/2.5/history/city?q=&East Wenatchee,1&type=hour&start=1477872001&end=1480464001&appid=d5437e1e573bf2f48e94c4dfe481d5ea\n"
     ]
    }
   ],
   "source": [
    "# Save config information.\n",
    "url = \"http://history.openweathermap.org/data/2.5/history/city?q=\"\n",
    "units = \"imperial\"\n",
    "city = \"East Wenatchee\"\n",
    "country_code = 1\n",
    "#start is 10/31/2016\n",
    "start = \"1477872001\"\n",
    "#end is 10/21/2021, using 11/31/2016 is a test\n",
    "end = \"1480464001\"\n",
    "\n",
    "\n",
    "# Build partial query URL\n",
    "query_url = f\"{url}&{city},{country_code}&type=hour&start={start}&end={end}&appid={api_key}\"\n",
    "response = requests.get(query_url + city).json() \n",
    "print(query_url)"
   ]
  },
  {
   "cell_type": "code",
   "execution_count": null,
   "id": "41f4337f",
   "metadata": {},
   "outputs": [],
   "source": [
    "\n",
    "\n"
   ]
  }
 ],
 "metadata": {
  "kernelspec": {
   "display_name": "Python [conda env:PythonData] *",
   "language": "python",
   "name": "conda-env-PythonData-py"
  },
  "language_info": {
   "codemirror_mode": {
    "name": "ipython",
    "version": 3
   },
   "file_extension": ".py",
   "mimetype": "text/x-python",
   "name": "python",
   "nbconvert_exporter": "python",
   "pygments_lexer": "ipython3",
   "version": "3.8.11"
  }
 },
 "nbformat": 4,
 "nbformat_minor": 5
}
